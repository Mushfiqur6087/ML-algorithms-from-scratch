{
 "cells": [
  {
   "cell_type": "code",
   "execution_count": 1,
   "metadata": {},
   "outputs": [],
   "source": [
    "import numpy as np\n",
    "import matplotlib.pyplot as plt\n",
    "np.random.seed(42)\n",
    "m = 100\n",
    "X = 6 * np.random.rand(m, 1) - 3\n",
    "y=4 + 3*X+np.random.randn(m, 1)"
   ]
  },
  {
   "cell_type": "code",
   "execution_count": 2,
   "metadata": {},
   "outputs": [
    {
     "data": {
      "text/plain": [
       "[<matplotlib.lines.Line2D at 0x1babaa3e780>]"
      ]
     },
     "execution_count": 2,
     "metadata": {},
     "output_type": "execute_result"
    },
    {
     "data": {
      "image/png": "[encoded data removed]",
      "text/plain": [
       "<Figure size 640x480 with 1 Axes>"
      ]
     },
     "metadata": {},
     "output_type": "display_data"
    }
   ],
   "source": [
    "#we have created a random dataset\n",
    "plt.plot(X, y, \"b.\")"
   ]
  },
  {
   "cell_type": "code",
   "execution_count": 3,
   "metadata": {},
   "outputs": [
    {
     "name": "stdout",
     "output_type": "stream",
     "text": [
      "[[-0.75275929]\n",
      " [ 2.70428584]\n",
      " [ 1.39196365]\n",
      " [ 0.59195091]\n",
      " [-2.06388816]\n",
      " [-2.06403288]\n",
      " [-2.65149833]\n",
      " [ 2.19705687]\n",
      " [ 0.60669007]\n",
      " [ 1.24843547]\n",
      " [-2.87649303]\n",
      " [ 2.81945911]\n",
      " [ 1.99465584]\n",
      " [-1.72596534]\n",
      " [-1.9090502 ]\n",
      " [-1.89957294]\n",
      " [-1.17454654]\n",
      " [ 0.14853859]\n",
      " [-0.40832989]\n",
      " [-1.25262516]\n",
      " [ 0.67111737]\n",
      " [-2.16303684]\n",
      " [-1.24713211]\n",
      " [-0.80182894]\n",
      " [-0.26358009]\n",
      " [ 1.71105577]\n",
      " [-1.80195731]\n",
      " [ 0.08540663]\n",
      " [ 0.55448741]\n",
      " [-2.72129752]\n",
      " [ 0.64526911]\n",
      " [-1.97685526]\n",
      " [-2.60969044]\n",
      " [ 2.69331322]\n",
      " [ 2.7937922 ]\n",
      " [ 1.85038409]\n",
      " [-1.17231738]\n",
      " [-2.41396732]\n",
      " [ 1.10539816]\n",
      " [-0.35908504]\n",
      " [-2.26777059]\n",
      " [-0.02893854]\n",
      " [-2.79366887]\n",
      " [ 2.45592241]\n",
      " [-1.44732011]\n",
      " [ 0.97513371]\n",
      " [-1.12973354]\n",
      " [ 0.12040813]\n",
      " [ 0.28026168]\n",
      " [-1.89087327]\n",
      " [ 2.81750777]\n",
      " [ 1.65079694]\n",
      " [ 2.63699365]\n",
      " [ 2.3689641 ]\n",
      " [ 0.58739987]\n",
      " [ 2.53124541]\n",
      " [-2.46904499]\n",
      " [-1.82410283]\n",
      " [-2.72863627]\n",
      " [-1.04801802]\n",
      " [-0.66793626]\n",
      " [-1.37190581]\n",
      " [ 1.97242505]\n",
      " [-0.85948004]\n",
      " [-1.31439294]\n",
      " [ 0.2561765 ]\n",
      " [-2.15445465]\n",
      " [ 1.81318188]\n",
      " [-2.55269614]\n",
      " [ 2.92132162]\n",
      " [ 1.63346862]\n",
      " [-1.80770591]\n",
      " [-2.9668673 ]\n",
      " [ 1.89276857]\n",
      " [ 1.24114406]\n",
      " [ 1.37404301]\n",
      " [ 1.62762208]\n",
      " [-2.55573209]\n",
      " [-0.84920563]\n",
      " [-2.30478564]\n",
      " [ 2.17862056]\n",
      " [ 0.73978876]\n",
      " [-1.01461185]\n",
      " [-2.6186499 ]\n",
      " [-1.13410607]\n",
      " [-1.04890007]\n",
      " [ 1.37763707]\n",
      " [ 0.82534483]\n",
      " [ 2.32327646]\n",
      " [-0.16671045]\n",
      " [-2.28243452]\n",
      " [ 1.27946872]\n",
      " [ 1.56471029]\n",
      " [ 0.36766319]\n",
      " [ 1.62580308]\n",
      " [-0.03722642]\n",
      " [ 0.13639698]\n",
      " [-0.43475389]\n",
      " [-2.84748524]\n",
      " [-2.35265144]]\n",
      "[[ 1.         -0.75275929]\n",
      " [ 1.          2.70428584]\n",
      " [ 1.          1.39196365]\n",
      " [ 1.          0.59195091]\n",
      " [ 1.         -2.06388816]\n",
      " [ 1.         -2.06403288]\n",
      " [ 1.         -2.65149833]\n",
      " [ 1.          2.19705687]\n",
      " [ 1.          0.60669007]\n",
      " [ 1.          1.24843547]\n",
      " [ 1.         -2.87649303]\n",
      " [ 1.          2.81945911]\n",
      " [ 1.          1.99465584]\n",
      " [ 1.         -1.72596534]\n",
      " [ 1.         -1.9090502 ]\n",
      " [ 1.         -1.89957294]\n",
      " [ 1.         -1.17454654]\n",
      " [ 1.          0.14853859]\n",
      " [ 1.         -0.40832989]\n",
      " [ 1.         -1.25262516]\n",
      " [ 1.          0.67111737]\n",
      " [ 1.         -2.16303684]\n",
      " [ 1.         -1.24713211]\n",
      " [ 1.         -0.80182894]\n",
      " [ 1.         -0.26358009]\n",
      " [ 1.          1.71105577]\n",
      " [ 1.         -1.80195731]\n",
      " [ 1.          0.08540663]\n",
      " [ 1.          0.55448741]\n",
      " [ 1.         -2.72129752]\n",
      " [ 1.          0.64526911]\n",
      " [ 1.         -1.97685526]\n",
      " [ 1.         -2.60969044]\n",
      " [ 1.          2.69331322]\n",
      " [ 1.          2.7937922 ]\n",
      " [ 1.          1.85038409]\n",
      " [ 1.         -1.17231738]\n",
      " [ 1.         -2.41396732]\n",
      " [ 1.          1.10539816]\n",
      " [ 1.         -0.35908504]\n",
      " [ 1.         -2.26777059]\n",
      " [ 1.         -0.02893854]\n",
      " [ 1.         -2.79366887]\n",
      " [ 1.          2.45592241]\n",
      " [ 1.         -1.44732011]\n",
      " [ 1.          0.97513371]\n",
      " [ 1.         -1.12973354]\n",
      " [ 1.          0.12040813]\n",
      " [ 1.          0.28026168]\n",
      " [ 1.         -1.89087327]\n",
      " [ 1.          2.81750777]\n",
      " [ 1.          1.65079694]\n",
      " [ 1.          2.63699365]\n",
      " [ 1.          2.3689641 ]\n",
      " [ 1.          0.58739987]\n",
      " [ 1.          2.53124541]\n",
      " [ 1.         -2.46904499]\n",
      " [ 1.         -1.82410283]\n",
      " [ 1.         -2.72863627]\n",
      " [ 1.         -1.04801802]\n",
      " [ 1.         -0.66793626]\n",
      " [ 1.         -1.37190581]\n",
      " [ 1.          1.97242505]\n",
      " [ 1.         -0.85948004]\n",
      " [ 1.         -1.31439294]\n",
      " [ 1.          0.2561765 ]\n",
      " [ 1.         -2.15445465]\n",
      " [ 1.          1.81318188]\n",
      " [ 1.         -2.55269614]\n",
      " [ 1.          2.92132162]\n",
      " [ 1.          1.63346862]\n",
      " [ 1.         -1.80770591]\n",
      " [ 1.         -2.9668673 ]\n",
      " [ 1.          1.89276857]\n",
      " [ 1.          1.24114406]\n",
      " [ 1.          1.37404301]\n",
      " [ 1.          1.62762208]\n",
      " [ 1.         -2.55573209]\n",
      " [ 1.         -0.84920563]\n",
      " [ 1.         -2.30478564]\n",
      " [ 1.          2.17862056]\n",
      " [ 1.          0.73978876]\n",
      " [ 1.         -1.01461185]\n",
      " [ 1.         -2.6186499 ]\n",
      " [ 1.         -1.13410607]\n",
      " [ 1.         -1.04890007]\n",
      " [ 1.          1.37763707]\n",
      " [ 1.          0.82534483]\n",
      " [ 1.          2.32327646]\n",
      " [ 1.         -0.16671045]\n",
      " [ 1.         -2.28243452]\n",
      " [ 1.          1.27946872]\n",
      " [ 1.          1.56471029]\n",
      " [ 1.          0.36766319]\n",
      " [ 1.          1.62580308]\n",
      " [ 1.         -0.03722642]\n",
      " [ 1.          0.13639698]\n",
      " [ 1.         -0.43475389]\n",
      " [ 1.         -2.84748524]\n",
      " [ 1.         -2.35265144]]\n"
     ]
    }
   ],
   "source": [
    "from sklearn.preprocessing import add_dummy_feature\n",
    "X_b = add_dummy_feature(X)\n",
    "print(X)\n",
    "print(X_b)\n"
   ]
  },
  {
   "cell_type": "markdown",
   "metadata": {},
   "source": [
    "In scikit-learn, the add_dummy_feature function is used to add a dummy feature to a dataset. This dummy feature is a column with a constant value (usually 1), which can be useful for certain types of linear models that require an intercept term.\n",
    "\n",
    "Here's a basic example of how to use add_dummy_feature:\n",
    "\n",
    "python\n",
    "Copy code\n",
    "import numpy as np\n",
    "from sklearn.preprocessing import add_dummy_feature\n",
    "\n",
    "# Create a sample dataset\n",
    "X = np.array([[0, 1], [2, 3], [4, 5]])\n",
    "\n",
    "# Add a dummy feature (column of ones)\n",
    "X_with_dummy = add_dummy_feature(X)\n",
    "\n",
    "print(X_with_dummy)"
   ]
  },
  {
   "cell_type": "code",
   "execution_count": 6,
   "metadata": {},
   "outputs": [],
   "source": [
    "#we can easily calculate the normal equation and find the exact values of best weights and biases\n",
    "theta_best =np.linalg.inv(X_b.T @ X_b)@X_b.T@ y"
   ]
  },
  {
   "cell_type": "code",
   "execution_count": 7,
   "metadata": {},
   "outputs": [
    {
     "name": "stdout",
     "output_type": "stream",
     "text": [
      "[[3.98520954]\n",
      " [2.92337113]]\n"
     ]
    }
   ],
   "source": [
    "print(theta_best)"
   ]
  },
  {
   "cell_type": "code",
   "execution_count": 11,
   "metadata": {},
   "outputs": [
    {
     "name": "stdout",
     "output_type": "stream",
     "text": [
      "[[0]\n",
      " [2]]\n",
      "[[1. 0.]\n",
      " [1. 2.]]\n",
      "[[3.98520954]\n",
      " [9.8319518 ]]\n"
     ]
    }
   ],
   "source": [
    "X_new = np.array([[0], [2]])\n",
    "print(X_new)\n",
    "X_new_b = add_dummy_feature(X_new)\n",
    "print(X_new_b)\n",
    "y_predict = X_new_b @ theta_best\n",
    "print(y_predict)"
   ]
  },
  {
   "cell_type": "code",
   "execution_count": 14,
   "metadata": {},
   "outputs": [
    {
     "data": {
      "image/png": "[encoded data removed]",
      "text/plain": [
       "<Figure size 640x480 with 1 Axes>"
      ]
     },
     "metadata": {},
     "output_type": "display_data"
    }
   ],
   "source": [
    "plt.plot(X_new, y_predict, \"r-\")\n",
    "plt.plot(X, y, \"b.\")\n",
    "plt.show()"
   ]
  },
  {
   "cell_type": "code",
   "execution_count": 16,
   "metadata": {},
   "outputs": [
    {
     "name": "stdout",
     "output_type": "stream",
     "text": [
      "[3.98520954] [[2.92337113]]\n"
     ]
    }
   ],
   "source": [
    "from sklearn.linear_model import LinearRegression\n",
    "lin_reg = LinearRegression()\n",
    "lin_reg.fit(X, y)\n",
    "print(lin_reg.intercept_, lin_reg.coef_)\n",
    "#so we can see that the values are same as we calculated using normal equation"
   ]
  },
  {
   "cell_type": "code",
   "execution_count": 18,
   "metadata": {},
   "outputs": [],
   "source": [
    "#lets implement graident descent from scratch\n",
    "#d/d(theta) MSE(theta) = 2/m * X.T @ (X @ theta - y)\n",
    "#theta_next = theta - learning_rate * d/d(theta) MSE(theta)\n",
    "#we will use batch gradient descent\n",
    "#we will use learning rate = 0.1\n",
    "#we will use 1000 epochs\n",
    "eta = 0.1\n",
    "n_iterations = 1000\n",
    "m=len(X_b)"
   ]
  },
  {
   "cell_type": "code",
   "execution_count": 23,
   "metadata": {},
   "outputs": [
    {
     "name": "stdout",
     "output_type": "stream",
     "text": [
      "100\n",
      "[[ 0.49671415]\n",
      " [-0.1382643 ]]\n",
      "[[3.98520954]\n",
      " [2.92337113]]\n"
     ]
    }
   ],
   "source": [
    "print(m)\n",
    "np.random.seed(42)\n",
    "theta = np.random.randn(2, 1)\n",
    "print(theta)\n",
    "#theta is initialized randomly\n",
    "\n",
    "for iteration in range(n_iterations):\n",
    "    gradients = 2/m * X_b.T @ (X_b @ theta - y)\n",
    "    theta = theta - eta * gradients\n",
    "print(theta)\n",
    "#we get original value of theta which we got from linear_regression class"
   ]
  },
  {
   "cell_type": "markdown",
   "metadata": {},
   "source": [
    "# we implemented batch gradient descent..now we will try stochastic gradient descent\n",
    "# takes random training set and uses it to calculate gradient descent"
   ]
  },
  {
   "cell_type": "code",
   "execution_count": null,
   "metadata": {},
   "outputs": [],
   "source": []
  }
 ],
 "metadata": {
  "kernelspec": {
   "display_name": "tf",
   "language": "python",
   "name": "python3"
  },
  "language_info": {
   "codemirror_mode": {
    "name": "ipython",
    "version": 3
   },
   "file_extension": ".py",
   "mimetype": "text/x-python",
   "name": "python",
   "nbconvert_exporter": "python",
   "pygments_lexer": "ipython3",
   "version": "3.12.3"
  }
 },
 "nbformat": 4,
 "nbformat_minor": 2
}

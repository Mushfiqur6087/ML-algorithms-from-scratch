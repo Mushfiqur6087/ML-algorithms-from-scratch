{
 "cells": [
  {
   "cell_type": "markdown",
   "metadata": {},
   "source": [
    " Random forest is basically a group of trees. It is a bagging based technique.. (Bootstrapped agregration).\n",
    " Randomly data select kore sampling kore.\n",
    " In random forest we use bagging technique and set all models as decision trees"
   ]
  },
  {
   "cell_type": "code",
   "execution_count": 2,
   "metadata": {},
   "outputs": [],
   "source": [
    "import numpy as np\n",
    "def bootstrapping(x,y,n_bootstrap):\n",
    "    n = len(x)\n",
    "    idx = np.arange(n)\n",
    "    x_boot = np.zeros((n_bootstrap,n))\n",
    "    y_boot = np.zeros((n_bootstrap,n))\n",
    "    for i in range(n_bootstrap):\n",
    "        idx_boot = np.random.choice(idx,n)\n",
    "        x_boot[i] = x[idx_boot]\n",
    "        y_boot[i] = y[idx_boot]\n",
    "    return x_boot,y_boot\n"
   ]
  },
  {
   "cell_type": "code",
   "execution_count": 8,
   "metadata": {},
   "outputs": [],
   "source": [
    "def max_feature(x):\n",
    "    # x is a 2D array\n",
    "    n= x.shape[1]\n",
    "    n_feature = int(np.sqrt(n))\n",
    "    idx = np.random.choice(n,n_feature,replace=False)\n",
    "    return x[:,idx]\n",
    "\n"
   ]
  },
  {
   "cell_type": "code",
   "execution_count": 14,
   "metadata": {},
   "outputs": [
    {
     "name": "stdout",
     "output_type": "stream",
     "text": [
      "[[0.34883741 0.64971337 0.95835191 0.9797035  0.99472773]\n",
      " [0.41757515 0.02449087 0.35888475 0.64051809 0.9098737 ]\n",
      " [0.80316947 0.21712047 0.55189457 0.47199713 0.99762934]\n",
      " [0.42612514 0.42570571 0.73303505 0.43675033 0.51954131]\n",
      " [0.30321354 0.61776877 0.38055158 0.50477374 0.4421958 ]\n",
      " [0.81733503 0.09372389 0.24036633 0.49282911 0.22140315]\n",
      " [0.24550488 0.84197026 0.86681165 0.13334307 0.74962455]\n",
      " [0.50863516 0.54438624 0.97601577 0.6869505  0.58081087]\n",
      " [0.39727269 0.97450125 0.60969878 0.41514343 0.79655125]\n",
      " [0.80772974 0.36548297 0.23945231 0.84467841 0.04024946]]\n"
     ]
    }
   ],
   "source": [
    "x= np.random.rand(10,5)\n",
    "print(x)"
   ]
  }
 ],
 "metadata": {
  "kernelspec": {
   "display_name": "hands_on_ML",
   "language": "python",
   "name": "python3"
  },
  "language_info": {
   "codemirror_mode": {
    "name": "ipython",
    "version": 3
   },
   "file_extension": ".py",
   "mimetype": "text/x-python",
   "name": "python",
   "nbconvert_exporter": "python",
   "pygments_lexer": "ipython3",
   "version": "3.12.3"
  }
 },
 "nbformat": 4,
 "nbformat_minor": 2
}
